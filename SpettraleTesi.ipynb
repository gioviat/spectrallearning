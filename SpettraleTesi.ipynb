{
  "nbformat": 4,
  "nbformat_minor": 0,
  "metadata": {
    "colab": {
      "name": "SpettraleTesi",
      "provenance": [],
      "include_colab_link": true
    },
    "kernelspec": {
      "name": "python3",
      "display_name": "Python 3"
    },
    "accelerator": "GPU"
  },
  "cells": [
    {
      "cell_type": "markdown",
      "metadata": {
        "id": "view-in-github",
        "colab_type": "text"
      },
      "source": [
        "<a href=\"https://colab.research.google.com/github/gioviat/spectrallearning/blob/main/SpettraleTesi.ipynb\" target=\"_parent\"><img src=\"https://colab.research.google.com/assets/colab-badge.svg\" alt=\"Open In Colab\"/></a>"
      ]
    },
    {
      "cell_type": "code",
      "metadata": {
        "id": "VBFieC93QTKx"
      },
      "source": [
        "import tensorflow as tf\n",
        "import matplotlib.pyplot as plt\n",
        "import numpy as np\n",
        "from tqdm import tqdm\n",
        "import pandas as pd\n",
        "from keras.callbacks import CSVLogger\n",
        "\n",
        "csv_logger = CSVLogger(\"model_history_log.csv\", append=True)\n",
        "\n",
        "from tensorflow.linalg import matmul as tmm"
      ],
      "execution_count": null,
      "outputs": []
    },
    {
      "cell_type": "code",
      "metadata": {
        "id": "9i6az2BtQZkx"
      },
      "source": [
        "class SpectralLayer(tf.keras.layers.Layer):\n",
        "\n",
        "    def __init__(self, next_layer_dim, activation=None,\n",
        "                 is_base_trainable=True, diag_trainable='all', init=tf.keras.initializers.GlorotUniform(),\n",
        "                 is_bias=True):\n",
        "\n",
        "        super(SpectralLayer, self).__init__()\n",
        "\n",
        "        self.final_shape = next_layer_dim\n",
        "        self.is_base_trainable = is_base_trainable\n",
        "        self.diag_trainable = diag_trainable\n",
        "        self.is_bias = is_bias\n",
        "        self.initial = init\n",
        "\n",
        "        if activation == 'relu':\n",
        "            self.nonlinear = tf.nn.relu\n",
        "        elif activation == 'sigmoid':\n",
        "            self.nonlinear = tf.math.sigmoid\n",
        "        elif activation == 'tanh':\n",
        "            self.nonlinear = tf.math.tanh\n",
        "        elif activation == 'softmax':\n",
        "            self.nonlinear = tf.nn.softmax\n",
        "        else:\n",
        "            self.nonlinear = tf.identity\n",
        "\n",
        "    def build(self, input_shape):\n",
        "      \n",
        "        self.in_shape = input_shape[1]\n",
        "\n",
        "        autov_1 = np.random.uniform(-0.5, 0.5, [self.in_shape])\n",
        "        autov_2 = np.random.uniform(-0.5, 0.5, [self.final_shape])\n",
        "\n",
        "        if self.diag_trainable == 'all':\n",
        "            self.eigval_1 = tf.Variable(autov_1, dtype=tf.float32)\n",
        "            self.eigval_2 = tf.Variable(autov_2, dtype=tf.float32)\n",
        "        elif self.diag_trainable == '1':\n",
        "            self.eigval_1 = tf.Variable(autov_1, dtype=tf.float32)\n",
        "            #self.eigval_2 = tf.constant(np.ones([self.final_shape]), dtype=tf.float32)\n",
        "            self.eigval_2 = tf.constant(np.zeros([self.final_shape]), dtype=tf.float32)\n",
        "        elif self.diag_trainable == '2':\n",
        "            self.eigval_1 = tf.constant(np.zeros([self.in_shape]), dtype=tf.float32)\n",
        "            #self.eigval_1 = tf.constant(np.ones([self.in_shape]), dtype=tf.float32)\n",
        "            self.eigval_2 = tf.Variable(autov_2, dtype=tf.float32)\n",
        "        else:\n",
        "            print(\"Select which portion of the eigenvalues matrix you want to train\")\n",
        "\n",
        "        if self.initial is not None:\n",
        "            w = self.initial(shape=(self.final_shape, self.in_shape)).numpy()\n",
        "            init_base = np.zeros([self.final_shape, self.in_shape])\n",
        "            for m in range(0, self.final_shape):\n",
        "                for n in range(0, self.in_shape):\n",
        "                    init_base[m, n] = w[m, n] / (autov_1[n] - autov_2[m])\n",
        "        else:\n",
        "            init_base = np.random.uniform(0.05, 0.1, [self.final_shape, self.in_shape])\n",
        "\n",
        "        if self.is_base_trainable:\n",
        "            self.base = tf.Variable(init_base, dtype=tf.float32)\n",
        "        else:\n",
        "            self.base = tf.constant(init_base, dtype=tf.float32)\n",
        "\n",
        "        if self.is_bias:\n",
        "            self.bias = tf.Variable(np.zeros([self.final_shape, 1]), trainable=True, dtype=tf.float32)\n",
        "        else:\n",
        "            self.bias = tf.constant(np.zeros([self.final_shape, 1]), dtype=tf.float32)\n",
        "\n",
        "    def call(self, data, training=False, threshold = False):\n",
        "        ##I dati arrivano come le righe della matrice data quindi vanno trasposti\n",
        "\n",
        "        diagonal_1 = tf.reshape(tf.linalg.diag(self.eigval_1), [self.in_shape, self.in_shape])\n",
        "        diagonal_2 = tf.reshape(tf.linalg.diag(self.eigval_2), [self.final_shape, self.final_shape])\n",
        "\n",
        "        x = tmm(tmm(self.base, diagonal_1) - tmm(diagonal_2, self.base), tf.transpose(data)) + self.bias\n",
        "\n",
        "        if self.nonlinear is not None:\n",
        "            x = self.nonlinear(tf.transpose(x))\n",
        "        return x"
      ],
      "execution_count": null,
      "outputs": []
    },
    {
      "cell_type": "code",
      "metadata": {
        "id": "p-E_6B7nQcgt",
        "colab": {
          "base_uri": "https://localhost:8080/"
        },
        "outputId": "8558a2bf-94cf-46cd-ae3f-c3f6662e247c"
      },
      "source": [
        "mnist = tf.keras.datasets.mnist\n",
        "\n",
        "(x_train, y_train), (x_test, y_test) = mnist.load_data()\n",
        "x_train, x_test = x_train / 255.0 , x_test / 255.0\n",
        "\n",
        "x_train.shape\n",
        "\n",
        "x_val = x_train[-10000:]\n",
        "y_val = y_train[-10000:]\n",
        "x_train = x_train[:-10000]\n",
        "y_train = y_train[:-10000]\n",
        "\n",
        "flat_train = np.reshape(x_train,[x_train.shape[0],28*28]) #Tutto dataset\n",
        "flat_test = np.reshape(x_test,[x_test.shape[0],28*28]) #Tutto testset\n",
        "\n",
        "flat_val = np.reshape(x_val,[x_val.shape[0],28*28])\n",
        "\n",
        "print(flat_train.shape)\n",
        "print(flat_val.shape)"
      ],
      "execution_count": null,
      "outputs": [
        {
          "output_type": "stream",
          "text": [
            "Downloading data from https://storage.googleapis.com/tensorflow/tf-keras-datasets/mnist.npz\n",
            "11493376/11490434 [==============================] - 0s 0us/step\n",
            "(50000, 784)\n",
            "(10000, 784)\n"
          ],
          "name": "stdout"
        }
      ]
    },
    {
      "cell_type": "code",
      "metadata": {
        "colab": {
          "base_uri": "https://localhost:8080/"
        },
        "id": "ns0-AcxTTd69",
        "outputId": "d2c7d808-ff52-4927-8c0d-805e8ebbcbf8"
      },
      "source": [
        "#Rete Spettrale\n",
        "model = tf.keras.Sequential()\n",
        "model.add(tf.keras.layers.Input(shape=(28 * 28), dtype='float32'))\n",
        "model.add(SpectralLayer(2000, activation='relu', is_base_trainable = False, diag_trainable='1'))\n",
        "model.add(SpectralLayer(10, is_base_trainable = False, activation='softmax', diag_trainable='1'))\n",
        "\n",
        "opt = tf.keras.optimizers.Adam(learning_rate=0.01)  # about 0.05  linear and 0.03 eigvalue/0.01eigvector for the non linear\n",
        "\n",
        "model.compile(optimizer=opt, loss='sparse_categorical_crossentropy', metrics=['accuracy'], run_eagerly=False)\n",
        "model.summary()"
      ],
      "execution_count": null,
      "outputs": [
        {
          "output_type": "stream",
          "text": [
            "Model: \"sequential_4\"\n",
            "_________________________________________________________________\n",
            "Layer (type)                 Output Shape              Param #   \n",
            "=================================================================\n",
            "spectral_layer_8 (SpectralLa (None, 2000)              2784      \n",
            "_________________________________________________________________\n",
            "spectral_layer_9 (SpectralLa (None, 10)                2010      \n",
            "=================================================================\n",
            "Total params: 4,794\n",
            "Trainable params: 4,794\n",
            "Non-trainable params: 0\n",
            "_________________________________________________________________\n"
          ],
          "name": "stdout"
        }
      ]
    },
    {
      "cell_type": "code",
      "metadata": {
        "colab": {
          "base_uri": "https://localhost:8080/"
        },
        "id": "zFF590YsTpIM",
        "outputId": "350a6871-eee2-4961-92ca-04a1c884f727"
      },
      "source": [
        "epochs = 20\n",
        "\n",
        "print(\"Fit model on training data\")\n",
        "history = model.fit(flat_train, y_train, batch_size=500, epochs=epochs, validation_data = (flat_val, y_val), verbose=1, callbacks=[csv_logger])\n",
        "\n",
        "print(\"Evaluate on test data\")\n",
        "tested = model.evaluate(flat_test, y_test, batch_size=500, verbose=0)\n",
        "print(\"Test loss, test accuracy:\", tested)\n",
        "\n",
        "Wsave = model.get_weights()"
      ],
      "execution_count": null,
      "outputs": [
        {
          "output_type": "stream",
          "text": [
            "Fit model on training data\n",
            "Epoch 1/20\n",
            "100/100 [==============================] - 2s 12ms/step - loss: 380.3587 - accuracy: 0.5000 - val_loss: 5.9648 - val_accuracy: 0.8887\n",
            "Epoch 2/20\n",
            "100/100 [==============================] - 1s 9ms/step - loss: 4.9963 - accuracy: 0.8980 - val_loss: 1.8461 - val_accuracy: 0.9308\n",
            "Epoch 3/20\n",
            "100/100 [==============================] - 1s 9ms/step - loss: 1.6564 - accuracy: 0.9360 - val_loss: 1.0690 - val_accuracy: 0.9452\n",
            "Epoch 4/20\n",
            "100/100 [==============================] - 1s 9ms/step - loss: 0.6540 - accuracy: 0.9578 - val_loss: 0.7757 - val_accuracy: 0.9471\n",
            "Epoch 5/20\n",
            "100/100 [==============================] - 1s 9ms/step - loss: 0.4021 - accuracy: 0.9676 - val_loss: 0.6696 - val_accuracy: 0.9546\n",
            "Epoch 6/20\n",
            "100/100 [==============================] - 1s 9ms/step - loss: 0.2272 - accuracy: 0.9766 - val_loss: 0.5154 - val_accuracy: 0.9607\n",
            "Epoch 7/20\n",
            "100/100 [==============================] - 1s 9ms/step - loss: 0.1530 - accuracy: 0.9817 - val_loss: 0.4721 - val_accuracy: 0.9647\n",
            "Epoch 8/20\n",
            "100/100 [==============================] - 1s 9ms/step - loss: 0.1078 - accuracy: 0.9846 - val_loss: 0.4304 - val_accuracy: 0.9646\n",
            "Epoch 9/20\n",
            "100/100 [==============================] - 1s 9ms/step - loss: 0.0752 - accuracy: 0.9886 - val_loss: 0.4098 - val_accuracy: 0.9654\n",
            "Epoch 10/20\n",
            "100/100 [==============================] - 1s 9ms/step - loss: 0.0515 - accuracy: 0.9906 - val_loss: 0.3935 - val_accuracy: 0.9666\n",
            "Epoch 11/20\n",
            "100/100 [==============================] - 1s 9ms/step - loss: 0.0433 - accuracy: 0.9921 - val_loss: 0.4039 - val_accuracy: 0.9693\n",
            "Epoch 12/20\n",
            "100/100 [==============================] - 1s 9ms/step - loss: 0.0290 - accuracy: 0.9933 - val_loss: 0.4381 - val_accuracy: 0.9667\n",
            "Epoch 13/20\n",
            "100/100 [==============================] - 1s 9ms/step - loss: 0.0294 - accuracy: 0.9942 - val_loss: 0.4135 - val_accuracy: 0.9675\n",
            "Epoch 14/20\n",
            "100/100 [==============================] - 1s 9ms/step - loss: 0.0259 - accuracy: 0.9946 - val_loss: 0.4224 - val_accuracy: 0.9682\n",
            "Epoch 15/20\n",
            "100/100 [==============================] - 1s 9ms/step - loss: 0.0298 - accuracy: 0.9941 - val_loss: 0.3660 - val_accuracy: 0.9705\n",
            "Epoch 16/20\n",
            "100/100 [==============================] - 1s 9ms/step - loss: 0.0171 - accuracy: 0.9959 - val_loss: 0.4082 - val_accuracy: 0.9698\n",
            "Epoch 17/20\n",
            "100/100 [==============================] - 1s 9ms/step - loss: 0.0160 - accuracy: 0.9965 - val_loss: 0.3991 - val_accuracy: 0.9705\n",
            "Epoch 18/20\n",
            "100/100 [==============================] - 1s 9ms/step - loss: 0.0122 - accuracy: 0.9969 - val_loss: 0.4328 - val_accuracy: 0.9708\n",
            "Epoch 19/20\n",
            "100/100 [==============================] - 1s 9ms/step - loss: 0.0234 - accuracy: 0.9953 - val_loss: 0.4521 - val_accuracy: 0.9684\n",
            "Epoch 20/20\n",
            "100/100 [==============================] - 1s 9ms/step - loss: 0.0251 - accuracy: 0.9955 - val_loss: 0.4375 - val_accuracy: 0.9707\n",
            "Evaluate on test data\n",
            "Test loss, test accuracy: [0.4200718402862549, 0.9703999757766724]\n"
          ],
          "name": "stdout"
        }
      ]
    },
    {
      "cell_type": "code",
      "metadata": {
        "colab": {
          "base_uri": "https://localhost:8080/",
          "height": 512
        },
        "id": "MZnhL69h5J18",
        "outputId": "5e025420-8c05-4f6a-f662-5921a7c5ba75"
      },
      "source": [
        "# PRIMO TRIMMING, da 0 a 100 per plottare accuracy \n",
        "\n",
        "def trim_SL(model, layer = 0):\n",
        "    \"\"\"\n",
        "    :param model: Modello da trimmare\n",
        "    :param layer: su quale layer deve avvenire il trimming\n",
        "    :return: accuracy in funzione del percentile dei pesi trimmati\n",
        "    \"\"\"\n",
        "    #Carico il testset\n",
        "    mnist = tf.keras.datasets.mnist\n",
        "\n",
        "    _, (x_test, y_test) = mnist.load_data()\n",
        "    x_test = x_test / 255.0\n",
        "    flat_test = np.reshape(x_test, [x_test.shape[0], 28 * 28])  # Tutto testset\n",
        "    \n",
        "    percentiles = np.arange(1, 100, 1)\n",
        "    results = {\"percentile\": [], \"val_loss\": []}\n",
        "\n",
        "    autov = model.layers[layer].eigval_1.numpy()\n",
        "    abs_autov = abs(autov)\n",
        "    thresholds = [np.percentile(abs_autov, q=perc) for perc in percentiles]\n",
        "    for t, perc in tqdm(list(zip(thresholds, percentiles)), desc=\"  Removing the eigenvalues\"):\n",
        "        autov[abs_autov < t] = 0.0\n",
        "        model.layers[layer].eigval_1.assign(autov)\n",
        "        test_res = model.evaluate(flat_test, y_test, batch_size=1000, verbose=0)\n",
        "\n",
        "        results[\"percentile\"].append(perc)\n",
        "        results[\"val_loss\"].append(test_res[1])\n",
        "\n",
        "    return [results[\"percentile\"], results[\"val_loss\"]]\n",
        "\n",
        "#Trimm con funzione Trim_SL (Single Layer)\n",
        "layer = int(input('Seleziona il layer su cui effettuare il trimming: '))\n",
        "eigval_perc, acc_after_Trim = trim_SL(model, layer=layer)"
      ],
      "execution_count": null,
      "outputs": [
        {
          "output_type": "stream",
          "text": [
            "Seleziona il layer su cui effettuare il trimming: 0\n"
          ],
          "name": "stdout"
        },
        {
          "output_type": "stream",
          "text": [
            "  Removing the eigenvalues: 100%|██████████| 99/99 [00:08<00:00, 12.21it/s]\n"
          ],
          "name": "stderr"
        },
        {
          "output_type": "error",
          "ename": "TypeError",
          "evalue": "ignored",
          "traceback": [
            "\u001b[0;31m---------------------------------------------------------------------------\u001b[0m",
            "\u001b[0;31mTypeError\u001b[0m                                 Traceback (most recent call last)",
            "\u001b[0;32m<ipython-input-168-9157b6a46893>\u001b[0m in \u001b[0;36m<module>\u001b[0;34m()\u001b[0m\n\u001b[1;32m     34\u001b[0m \u001b[0meigval_perc\u001b[0m\u001b[0;34m,\u001b[0m \u001b[0macc_after_Trim\u001b[0m \u001b[0;34m=\u001b[0m \u001b[0mtrim_SL\u001b[0m\u001b[0;34m(\u001b[0m\u001b[0mmodel\u001b[0m\u001b[0;34m,\u001b[0m \u001b[0mlayer\u001b[0m\u001b[0;34m=\u001b[0m\u001b[0mlayer\u001b[0m\u001b[0;34m)\u001b[0m\u001b[0;34m\u001b[0m\u001b[0;34m\u001b[0m\u001b[0m\n\u001b[1;32m     35\u001b[0m \u001b[0mplt\u001b[0m\u001b[0;34m.\u001b[0m\u001b[0mplot\u001b[0m\u001b[0;34m(\u001b[0m\u001b[0meigval_perc\u001b[0m\u001b[0;34m,\u001b[0m \u001b[0macc_after_Trim\u001b[0m\u001b[0;34m,\u001b[0m\u001b[0;34m'-bo'\u001b[0m\u001b[0;34m,\u001b[0m\u001b[0mmarkersize\u001b[0m\u001b[0;34m=\u001b[0m\u001b[0;36m4\u001b[0m\u001b[0;34m)\u001b[0m\u001b[0;34m\u001b[0m\u001b[0;34m\u001b[0m\u001b[0m\n\u001b[0;32m---> 36\u001b[0;31m \u001b[0mplt\u001b[0m\u001b[0;34m.\u001b[0m\u001b[0mhlines\u001b[0m\u001b[0;34m(\u001b[0m\u001b[0;36m0.9\u001b[0m\u001b[0;34m)\u001b[0m\u001b[0;34m\u001b[0m\u001b[0;34m\u001b[0m\u001b[0m\n\u001b[0m\u001b[1;32m     37\u001b[0m \u001b[0mplt\u001b[0m\u001b[0;34m.\u001b[0m\u001b[0mxlabel\u001b[0m\u001b[0;34m(\u001b[0m\u001b[0;34m'Percentage of eigenvalues set to zero'\u001b[0m\u001b[0;34m)\u001b[0m\u001b[0;34m\u001b[0m\u001b[0;34m\u001b[0m\u001b[0m\n\u001b[1;32m     38\u001b[0m \u001b[0mplt\u001b[0m\u001b[0;34m.\u001b[0m\u001b[0mylabel\u001b[0m\u001b[0;34m(\u001b[0m\u001b[0;34m'Accuracy'\u001b[0m\u001b[0;34m)\u001b[0m\u001b[0;34m\u001b[0m\u001b[0;34m\u001b[0m\u001b[0m\n",
            "\u001b[0;31mTypeError\u001b[0m: hlines() missing 2 required positional arguments: 'xmin' and 'xmax'"
          ]
        },
        {
          "output_type": "display_data",
          "data": {
            "image/png": "[encoded data removed]",
            "text/plain": [
              "<Figure size 432x288 with 1 Axes>"
            ]
          },
          "metadata": {
            "tags": [],
            "needs_background": "light"
          }
        }
      ]
    },
    {
      "cell_type": "code",
      "metadata": {
        "colab": {
          "base_uri": "https://localhost:8080/",
          "height": 295
        },
        "id": "aukst1uvaG0h",
        "outputId": "c072f500-2cb4-4f37-81f0-c9e0b1d363e3"
      },
      "source": [
        "plt.plot(eigval_perc, acc_after_Trim,'-bo',markersize=4)\n",
        "plt.hlines(0.9,0,102)\n",
        "plt.xlabel('Percentage of eigenvalues set to zero')\n",
        "plt.ylabel('Accuracy')\n",
        "plt.xlim(0,102)\n",
        "plt.title('Eigenvalues trimming, layer %i' %layer)\n",
        "plt.grid(True)\n",
        "plt.show()"
      ],
      "execution_count": null,
      "outputs": [
        {
          "output_type": "display_data",
          "data": {
            "image/png": "[encoded data removed]",
            "text/plain": [
              "<Figure size 432x288 with 1 Axes>"
            ]
          },
          "metadata": {
            "tags": [],
            "needs_background": "light"
          }
        }
      ]
    },
    {
      "cell_type": "code",
      "metadata": {
        "id": "6zCfoaB9XTFp"
      },
      "source": [
        "  model.set_weights(Wsave)\n",
        "\n",
        "  def trim_SL(model, layer = 0):\n",
        "    \"\"\"\n",
        "    :param model: Modello da trimmare\n",
        "    :param layer: su quale layer deve avvenire il trimming\n",
        "    :return: accuracy in funzione del percentile dei pesi trimmati\n",
        "    \"\"\"\n",
        "    #Carico il testset\n",
        "    mnist = tf.keras.datasets.mnist\n",
        "\n",
        "    _, (x_test, y_test) = mnist.load_data()\n",
        "    x_test = x_test / 255.0\n",
        "    flat_test = np.reshape(x_test, [x_test.shape[0], 28 * 28])  # Tutto testset\n",
        "    \n",
        "    percentiles = np.arange(39, 40, 1)\n",
        "    results = {\"percentile\": [], \"val_loss\": []}\n",
        "\n",
        "    autov = model.layers[layer].eigval_1.numpy()\n",
        "    abs_autov = abs(autov)\n",
        "    thresholds = [np.percentile(abs_autov, q=perc) for perc in percentiles]\n",
        "    for t, perc in tqdm(list(zip(thresholds, percentiles)), desc=\"  Removing the eigenvalues\"):\n",
        "        autov[abs_autov < t] = 0.0\n",
        "        model.layers[layer].eigval_1.assign(autov)\n",
        "        test_res = model.evaluate(flat_test, y_test, batch_size=1000, verbose=0)\n",
        "\n",
        "        results[\"percentile\"].append(perc)\n",
        "        results[\"val_loss\"].append(test_res[1])\n",
        "\n",
        "    return [results[\"percentile\"], results[\"val_loss\"]]"
      ],
      "execution_count": null,
      "outputs": []
    },
    {
      "cell_type": "code",
      "metadata": {
        "colab": {
          "base_uri": "https://localhost:8080/"
        },
        "id": "Kmc3GjbpsMAi",
        "outputId": "588c96f6-2a43-4481-e06c-a5330cf57b7e"
      },
      "source": [
        "#SECONDO TRIMMING, per plottare l'intensità\n",
        "\n",
        "#Trimm con funzione Trim_SL (Single Layer)\n",
        "eigval_perc, acc_after_Trim = trim_SL(model, layer=layer)\n",
        "\n",
        "autovalori = model.layers[0].eigval_1.numpy()\n",
        "filter = np.ones(784)\n",
        "filter[autovalori==0] = 0\n",
        "a = flat_test*filter\n",
        "a.shape\n",
        "tested = model.evaluate(a, y_test, batch_size=1000, verbose=0)\n",
        "print(\"Test loss, test accuracy:\", tested)"
      ],
      "execution_count": null,
      "outputs": [
        {
          "output_type": "stream",
          "text": [
            "  Removing the eigenvalues: 100%|██████████| 1/1 [00:00<00:00,  8.41it/s]\n"
          ],
          "name": "stderr"
        },
        {
          "output_type": "stream",
          "text": [
            "Test loss, test accuracy: [1.1840029954910278, 0.9240000247955322]\n"
          ],
          "name": "stdout"
        }
      ]
    },
    {
      "cell_type": "code",
      "metadata": {
        "colab": {
          "base_uri": "https://localhost:8080/",
          "height": 597
        },
        "id": "7Rz366VilgxP",
        "outputId": "41e8cf44-69d9-4537-9bf0-96d6cc1da4d6"
      },
      "source": [
        "autovalori = model.layers[0].eigval_1.numpy()\n",
        "plt.figure(figsize=(10,10))\n",
        "plt.title('Residual accuracy %.3f' %tested[1])\n",
        "autovalori[autovalori==0] = -1 # questi sono i pixel non rilevanti; sono stati messi a -1 per il plot\n",
        "matrix = np.reshape(autovalori,(28,28))\n",
        "plt.imshow(matrix, cmap='magma', vmin=-1, vmax=1.2,\n",
        "                             interpolation='none')\n",
        "plt.colorbar()"
      ],
      "execution_count": null,
      "outputs": [
        {
          "output_type": "execute_result",
          "data": {
            "text/plain": [
              "<matplotlib.colorbar.Colorbar at 0x7ff6f58dfbd0>"
            ]
          },
          "metadata": {
            "tags": []
          },
          "execution_count": 165
        },
        {
          "output_type": "display_data",
          "data": {
            "image/png": "[encoded data removed]",
            "text/plain": [
              "<Figure size 720x720 with 2 Axes>"
            ]
          },
          "metadata": {
            "tags": [],
            "needs_background": "light"
          }
        }
      ]
    },
    {
      "cell_type": "code",
      "metadata": {
        "colab": {
          "base_uri": "https://localhost:8080/"
        },
        "id": "6AqjB7eBIeWX",
        "outputId": "3f52a332-b818-426e-9d52-ec686f54d7ac"
      },
      "source": [
        "# Pandas\n",
        "eigval_risultati =  pd.read_csv(\"eigval_model_history_log.csv\")\n",
        "\n",
        "\n",
        "eigval_risultati_per_epoca = []\n",
        "eigval_acc = []\n",
        "eigval_acc_std = []\n",
        "eigval_loss = []\n",
        "eigval_loss_std = []\n",
        "eigval_val_acc = []\n",
        "eigval_val_acc_std = []\n",
        "eigval_val_loss = []\n",
        "eigval_val_loss_std = []\n",
        "\n",
        "eigval_accplus = []\n",
        "eigval_accminus = []\n",
        "eigval_lossplus = []\n",
        "eigval_lossminus =[]\n",
        "eigval_valaccplus = []\n",
        "eigval_valaccminus =[]\n",
        "eigval_vallossplus = []\n",
        "eigval_vallossminus = []\n",
        "\n",
        "\n",
        "for i in range(epochs):\n",
        "\n",
        "  eigval_risultati_per_epoca.append(eigval_risultati[eigval_risultati[\"epoch\"] == i])\n",
        "\n",
        "  eigval_acc.append(eigval_risultati_per_epoca[i][\"accuracy\"].mean())\n",
        "  eigval_loss.append(eigval_risultati_per_epoca[i][\"loss\"].mean())\n",
        "  eigval_val_acc.append(eigval_risultati_per_epoca[i][\"val_accuracy\"].mean())\n",
        "  eigval_val_loss.append(eigval_risultati_per_epoca[i][\"val_loss\"].mean())\n",
        "\n",
        "  eigval_acc_std.append(eigval_risultati_per_epoca[i][\"accuracy\"].std())\n",
        "  eigval_loss_std.append(eigval_risultati_per_epoca[i][\"loss\"].std())\n",
        "  eigval_val_acc_std.append(eigval_risultati_per_epoca[i][\"val_accuracy\"].std())\n",
        "  eigval_val_loss_std.append(eigval_risultati_per_epoca[i][\"val_loss\"].std())\n",
        "\n",
        "  eigval_accplus.append(min(eigval_acc[i] + eigval_acc_std[i],1))\n",
        "  eigval_accminus.append(eigval_acc[i] - eigval_acc_std[i])\n",
        "\n",
        "  eigval_lossplus.append(eigval_loss[i] + eigval_loss_std[i])\n",
        "  eigval_lossminus.append(max(eigval_loss[i] - eigval_loss_std[i],0))\n",
        "\n",
        "  eigval_valaccplus.append(eigval_val_acc[i] + eigval_val_acc_std[i])\n",
        "  eigval_valaccminus.append(eigval_val_acc[i] - eigval_val_acc_std[i])\n",
        "\n",
        "  eigval_vallossplus.append(eigval_val_loss[i] + eigval_val_loss_std[i])\n",
        "  eigval_vallossminus.append(eigval_val_loss[i] - eigval_val_loss_std[i])\n",
        "\n",
        "\n",
        "eigval_results = pd.DataFrame(list(zip(eigval_acc, eigval_loss, eigval_val_acc, eigval_val_loss, eigval_accplus, eigval_accminus, eigval_lossplus, eigval_lossminus, eigval_valaccplus, eigval_valaccminus, eigval_vallossplus, eigval_vallossminus)), columns=['Mean_accuracy', 'Mean_loss', 'Mean_test_accuracy', 'Mean_test_loss', 'Accuracy_plus', 'Accuracy_minus', 'Loss_plus', 'Loss_minus', 'Val_acc_plus', 'Val_acc_minus', 'Val_loss_plus', 'Val_loss_minus'])\n",
        "eigval_results.head()\n",
        "eigval_results.to_csv(path_or_buf='eigval_results.csv')\n",
        "\n",
        "print('Mean accuracy:', eigval_acc[i], 'err:', eigval_acc_std[i], '| Mean test accuracy:', eigval_val_acc[i], 'err:', eigval_val_acc_std[i], '\\n')\n",
        "print('Mean loss:', eigval_loss[i], 'err:', eigval_loss_std[i], '| Mean test accuracy:', eigval_val_loss[i], 'err:', eigval_val_loss_std[i], '\\n')"
      ],
      "execution_count": null,
      "outputs": [
        {
          "output_type": "stream",
          "text": [
            "Mean accuracy: 0.932818997502327 err: 0.0017155633656216172 | Mean test accuracy: 0.9311879974603653 err: 0.0032210565538166396 \n",
            "\n",
            "Mean loss: 0.2251490432024002 err: 0.007192957502821493 | Mean test accuracy: 0.2454853820800781 err: 0.010725832971799725 \n",
            "\n"
          ],
          "name": "stdout"
        }
      ]
    },
    {
      "cell_type": "code",
      "metadata": {
        "colab": {
          "base_uri": "https://localhost:8080/"
        },
        "id": "IwCEhtLbcdHx",
        "outputId": "6fbb814b-4485-4bb4-f403-175f366fea04"
      },
      "source": [
        "# Pandas\n",
        "risultati =  pd.read_csv(\"model_history_log.csv\")\n",
        "\n",
        "\n",
        "risultati_per_epoca = []\n",
        "acc = []\n",
        "acc_std = []\n",
        "loss = []\n",
        "loss_std = []\n",
        "val_acc = []\n",
        "val_acc_std = []\n",
        "val_loss = []\n",
        "val_loss_std = []\n",
        "\n",
        "accplus = []\n",
        "accminus = []\n",
        "lossplus = []\n",
        "lossminus =[]\n",
        "valaccplus = []\n",
        "valaccminus =[]\n",
        "vallossplus = []\n",
        "vallossminus = []\n",
        "\n",
        "\n",
        "for i in range(epochs):\n",
        "\n",
        "  risultati_per_epoca.append(risultati[risultati[\"epoch\"] == i])\n",
        "\n",
        "  acc.append(risultati_per_epoca[i][\"accuracy\"].mean())\n",
        "  loss.append(risultati_per_epoca[i][\"loss\"].mean())\n",
        "  val_acc.append(risultati_per_epoca[i][\"val_accuracy\"].mean())\n",
        "  val_loss.append(risultati_per_epoca[i][\"val_loss\"].mean())\n",
        "\n",
        "  acc_std.append(risultati_per_epoca[i][\"accuracy\"].std())\n",
        "  loss_std.append(risultati_per_epoca[i][\"loss\"].std())\n",
        "  val_acc_std.append(risultati_per_epoca[i][\"val_accuracy\"].std())\n",
        "  val_loss_std.append(risultati_per_epoca[i][\"val_loss\"].std())\n",
        "\n",
        "  accplus.append(min(acc[i] + acc_std[i],1))\n",
        "  accminus.append(acc[i] - acc_std[i])\n",
        "\n",
        "  lossplus.append(loss[i] + loss_std[i])\n",
        "  lossminus.append(max(loss[i] - loss_std[i],0))\n",
        "\n",
        "  valaccplus.append(val_acc[i] + val_acc_std[i])\n",
        "  valaccminus.append(val_acc[i] - val_acc_std[i])\n",
        "\n",
        "  vallossplus.append(val_loss[i] + val_loss_std[i])\n",
        "  vallossminus.append(val_loss[i] - val_loss_std[i])\n",
        "\n",
        "\n",
        "results = pd.DataFrame(list(zip(acc, loss, val_acc, val_loss, accplus, accminus, lossplus, lossminus, valaccplus, valaccminus, vallossplus, vallossminus)), columns=['Mean_accuracy', 'Mean_loss', 'Mean_test_accuracy', 'Mean_test_loss', 'Accuracy_plus', 'Accuracy_minus', 'Loss_plus', 'Loss_minus', 'Val_acc_plus', 'Val_acc_minus', 'Val_loss_plus', 'Val_loss_minus'])\n",
        "results.head()\n",
        "results.to_csv(path_or_buf='results.csv')\n",
        "\n",
        "print('Mean accuracy:', acc[i], 'err:', acc_std[i], '| Mean test accuracy:', val_acc[i], 'err:', val_acc_std[i], '\\n')\n",
        "print('Mean loss:', loss[i], 'err:', loss_std[i], '| Mean test accuracy:', val_loss[i], 'err:', val_loss_std[i], '\\n')"
      ],
      "execution_count": null,
      "outputs": [
        {
          "output_type": "stream",
          "text": [
            "Mean accuracy: 0.9999207997322083 err: 0.0006358385198937383 | Mean test accuracy: 0.9717500001192093 err: 0.0009957982029666912 \n",
            "\n",
            "Mean loss: 0.0006173948099603876 err: 0.004567387759636375 | Mean test accuracy: 0.2996146157383919 err: 0.0828907568755884 \n",
            "\n"
          ],
          "name": "stdout"
        }
      ]
    },
    {
      "cell_type": "code",
      "metadata": {
        "colab": {
          "base_uri": "https://localhost:8080/",
          "height": 573
        },
        "id": "w17TdU3iIhz9",
        "outputId": "e3812be1-cb4e-428c-e794-e7f0d904e871"
      },
      "source": [
        "# Grafici accuracy/loss\n",
        "eigval_loss[0]=21.338\n",
        "# list all data in history\n",
        "x = []\n",
        "for i in range(epochs):\n",
        "    x.append(i)\n",
        "    i+=1\n",
        "# summarize history for accuracy\n",
        "plt.plot(acc, linestyle = '-', marker = 'o')\n",
        "plt.fill_between(x,accplus,accminus,alpha=0.4)\n",
        "plt.plot(val_acc)\n",
        "plt.fill_between(x,valaccplus,valaccminus,alpha=0.4)\n",
        "plt.plot(eigval_acc, linestyle = '-', marker = 'o')\n",
        "plt.fill_between(x,eigval_accplus,eigval_accminus,alpha=0.4)\n",
        "plt.plot(eigval_val_acc)\n",
        "plt.fill_between(x,eigval_valaccplus,eigval_valaccminus,alpha=0.4)\n",
        "plt.title('Model accuracy')\n",
        "plt.grid(True)\n",
        "plt.ylabel('Accuracy')\n",
        "plt.xlabel('Epoch')\n",
        "plt.xticks([0,2,4,6,8,10,12,14,16,18,20])\n",
        "plt.legend(['Train', 'Test', 'Train (eigenvalues)', 'Test (eigenvalues)', '±σ (train)', '±σ (test)', '±σ (train, eigenvalues)', '±σ (test. eigenvalues)'], loc='lower right')\n",
        "plt.show()\n",
        "\n",
        "\n",
        "axes = plt.gca()\n",
        "  # summarize history for loss\n",
        "plt.plot(loss, linestyle = '-', marker = 'o')\n",
        "plt.fill_between(x,lossplus,lossminus,alpha=0.4)\n",
        "plt.plot(val_loss)\n",
        "plt.fill_between(x,vallossplus,vallossminus,alpha=0.4)\n",
        "plt.plot(eigval_loss, linestyle = '-', marker = 'o')\n",
        "plt.fill_between(x,eigval_lossplus,eigval_lossminus,alpha=0.4)\n",
        "plt.plot(eigval_val_loss)\n",
        "plt.fill_between(x,eigval_vallossplus,eigval_vallossminus,alpha=0.4)\n",
        "axes.set_ylim([-0.25,2.25])\n",
        "\n",
        "plt.title('Model loss')\n",
        "plt.grid(True)\n",
        "plt.ylabel('Loss')\n",
        "plt.xlabel('Epoch')\n",
        "plt.xticks([0,2,4,6,8,10,12,14,16,18,20])\n",
        "plt.legend(['Train', 'Test', 'Train (eigenvalues)', 'Test (eigenvalues)', '±σ (train)', '±σ (test)', '±σ (train, eigenvalues)', '±σ (test, eigenvalues)'], loc='upper right')\n",
        "plt.show()"
      ],
      "execution_count": null,
      "outputs": [
        {
          "output_type": "display_data",
          "data": {
            "image/png": "[encoded data removed]",
            "text/plain": [
              "<Figure size 432x288 with 1 Axes>"
            ]
          },
          "metadata": {
            "tags": [],
            "needs_background": "light"
          }
        },
        {
          "output_type": "display_data",
          "data": {
            "image/png": "[encoded data removed]",
            "text/plain": [
              "<Figure size 432x288 with 1 Axes>"
            ]
          },
          "metadata": {
            "tags": [],
            "needs_background": "light"
          }
        }
      ]
    }
  ]
}